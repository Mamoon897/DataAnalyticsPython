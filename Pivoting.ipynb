{
  "metadata": {
    "language_info": {
      "codemirror_mode": {
        "name": "python",
        "version": 3
      },
      "file_extension": ".py",
      "mimetype": "text/x-python",
      "name": "python",
      "nbconvert_exporter": "python",
      "pygments_lexer": "ipython3",
      "version": "3.8"
    },
    "kernelspec": {
      "name": "python",
      "display_name": "Python (Pyodide)",
      "language": "python"
    }
  },
  "nbformat_minor": 4,
  "nbformat": 4,
  "cells": [
    {
      "cell_type": "code",
      "source": " x=15\n\nif x<10:\n     print('One digit Number')\n    \nelif x<100:\n      print('Two Digit Number')\n\n\n",
      "metadata": {
        "trusted": true
      },
      "execution_count": 9,
      "outputs": [
        {
          "name": "stdout",
          "text": "Two Digit Number\n",
          "output_type": "stream"
        }
      ]
    },
    {
      "cell_type": "code",
      "source": "i=1\nnum=int(input(\"Enter the range \"))\n\n\nfor i in range(i,num):#num will not included ,loop will stop at n-1\n         print(i)",
      "metadata": {
        "trusted": true
      },
      "execution_count": 3,
      "outputs": [
        {
          "ename": "<class 'TypeError'>",
          "evalue": "int() argument must be a string, a bytes-like object or a real number, not 'PyodideFuture'",
          "traceback": [
            "\u001b[0;31m---------------------------------------------------------------------------\u001b[0m",
            "\u001b[0;31mTypeError\u001b[0m                                 Traceback (most recent call last)",
            "Cell \u001b[0;32mIn[3], line 2\u001b[0m\n\u001b[1;32m      1\u001b[0m i\u001b[38;5;241m=\u001b[39m\u001b[38;5;241m1\u001b[39m\n\u001b[0;32m----> 2\u001b[0m num\u001b[38;5;241m=\u001b[39m\u001b[38;5;28;43mint\u001b[39;49m\u001b[43m(\u001b[49m\u001b[38;5;28;43minput\u001b[39;49m\u001b[43m(\u001b[49m\u001b[38;5;124;43m\"\u001b[39;49m\u001b[38;5;124;43mEnter the range \u001b[39;49m\u001b[38;5;124;43m\"\u001b[39;49m\u001b[43m)\u001b[49m\u001b[43m)\u001b[49m\n\u001b[1;32m      5\u001b[0m \u001b[38;5;28;01mfor\u001b[39;00m i \u001b[38;5;129;01min\u001b[39;00m \u001b[38;5;28mrange\u001b[39m(i,num):\u001b[38;5;66;03m#num will not included ,loop will stop at n-1\u001b[39;00m\n\u001b[1;32m      6\u001b[0m          \u001b[38;5;28mprint\u001b[39m(i)\n",
            "\u001b[0;31mTypeError\u001b[0m: int() argument must be a string, a bytes-like object or a real number, not 'PyodideFuture'"
          ],
          "output_type": "error"
        },
        {
          "output_type": "stream",
          "name": "stdin",
          "text": "Enter the range  4\n"
        }
      ]
    },
    {
      "cell_type": "code",
      "source": "import pandas as pd\n  \n# initialize list elements\ndata = [40,30,10,20,50,60]\n  \n# Create the pandas DataFrame with column name is provided explicitly\ndf = pd.DataFrame(data, columns=['Numbers'])\n  \n# print dataframe. \n\nprint('MIN =',df.min())\nprint('MAX =',df.max())\ndf",
      "metadata": {
        "trusted": true
      },
      "execution_count": 29,
      "outputs": [
        {
          "name": "stdout",
          "text": "MIN = Numbers    10\ndtype: int64\nMAX = Numbers    60\ndtype: int64\n",
          "output_type": "stream"
        },
        {
          "execution_count": 29,
          "output_type": "execute_result",
          "data": {
            "text/plain": "   Numbers\n0       40\n1       30\n2       10\n3       20\n4       50\n5       60",
            "text/html": "<div>\n<style scoped>\n    .dataframe tbody tr th:only-of-type {\n        vertical-align: middle;\n    }\n\n    .dataframe tbody tr th {\n        vertical-align: top;\n    }\n\n    .dataframe thead th {\n        text-align: right;\n    }\n</style>\n<table border=\"1\" class=\"dataframe\">\n  <thead>\n    <tr style=\"text-align: right;\">\n      <th></th>\n      <th>Numbers</th>\n    </tr>\n  </thead>\n  <tbody>\n    <tr>\n      <th>0</th>\n      <td>40</td>\n    </tr>\n    <tr>\n      <th>1</th>\n      <td>30</td>\n    </tr>\n    <tr>\n      <th>2</th>\n      <td>10</td>\n    </tr>\n    <tr>\n      <th>3</th>\n      <td>20</td>\n    </tr>\n    <tr>\n      <th>4</th>\n      <td>50</td>\n    </tr>\n    <tr>\n      <th>5</th>\n      <td>60</td>\n    </tr>\n  </tbody>\n</table>\n</div>"
          },
          "metadata": {}
        }
      ]
    },
    {
      "cell_type": "code",
      "source": "import numpy as np\nimport pandas as pd\n\ndf = pd.DataFrame({'fff': ['one', 'one', 'one', 'two', 'two',\n                           'two'],\n                   'bbb': ['P', 'Q', 'R', 'P', 'Q', 'R'],\n                   'baa': [2, 3, 4, 5, 6, 7],\n                   'zzz': ['h', 'i', 'j', 'k', 'l', 'm']})\nprint(df)\ndf.pivot(index='fff', columns='bbb', values='baa')\n\n",
      "metadata": {
        "trusted": true
      },
      "execution_count": 35,
      "outputs": [
        {
          "name": "stdout",
          "text": "   fff bbb  baa zzz\n0  one   P    2   h\n1  one   Q    3   i\n2  one   R    4   j\n3  two   P    5   k\n4  two   Q    6   l\n5  two   R    7   m\n",
          "output_type": "stream"
        },
        {
          "execution_count": 35,
          "output_type": "execute_result",
          "data": {
            "text/plain": "bbb  P  Q  R\nfff         \none  2  3  4\ntwo  5  6  7",
            "text/html": "<div>\n<style scoped>\n    .dataframe tbody tr th:only-of-type {\n        vertical-align: middle;\n    }\n\n    .dataframe tbody tr th {\n        vertical-align: top;\n    }\n\n    .dataframe thead th {\n        text-align: right;\n    }\n</style>\n<table border=\"1\" class=\"dataframe\">\n  <thead>\n    <tr style=\"text-align: right;\">\n      <th>bbb</th>\n      <th>P</th>\n      <th>Q</th>\n      <th>R</th>\n    </tr>\n    <tr>\n      <th>fff</th>\n      <th></th>\n      <th></th>\n      <th></th>\n    </tr>\n  </thead>\n  <tbody>\n    <tr>\n      <th>one</th>\n      <td>2</td>\n      <td>3</td>\n      <td>4</td>\n    </tr>\n    <tr>\n      <th>two</th>\n      <td>5</td>\n      <td>6</td>\n      <td>7</td>\n    </tr>\n  </tbody>\n</table>\n</div>"
          },
          "metadata": {}
        }
      ]
    },
    {
      "cell_type": "code",
      "source": "import numpy as np\nimport pandas as pd\n\ndf = pd.DataFrame({'fff': ['one', 'one', 'one', 'two', 'two',\n                           'two'],\n                   'bbb': ['P', 'Q', 'R', 'P', 'Q', 'R'],\n                   'baa': [2, 3, 4, 5, 6, 7],\n                   'zzz': ['h', 'i', 'j', 'k', 'l', 'm']})\ndf",
      "metadata": {
        "trusted": true
      },
      "execution_count": 34,
      "outputs": [
        {
          "execution_count": 34,
          "output_type": "execute_result",
          "data": {
            "text/plain": "   fff bbb  baa zzz\n0  one   P    2   h\n1  one   Q    3   i\n2  one   R    4   j\n3  two   P    5   k\n4  two   Q    6   l\n5  two   R    7   m",
            "text/html": "<div>\n<style scoped>\n    .dataframe tbody tr th:only-of-type {\n        vertical-align: middle;\n    }\n\n    .dataframe tbody tr th {\n        vertical-align: top;\n    }\n\n    .dataframe thead th {\n        text-align: right;\n    }\n</style>\n<table border=\"1\" class=\"dataframe\">\n  <thead>\n    <tr style=\"text-align: right;\">\n      <th></th>\n      <th>fff</th>\n      <th>bbb</th>\n      <th>baa</th>\n      <th>zzz</th>\n    </tr>\n  </thead>\n  <tbody>\n    <tr>\n      <th>0</th>\n      <td>one</td>\n      <td>P</td>\n      <td>2</td>\n      <td>h</td>\n    </tr>\n    <tr>\n      <th>1</th>\n      <td>one</td>\n      <td>Q</td>\n      <td>3</td>\n      <td>i</td>\n    </tr>\n    <tr>\n      <th>2</th>\n      <td>one</td>\n      <td>R</td>\n      <td>4</td>\n      <td>j</td>\n    </tr>\n    <tr>\n      <th>3</th>\n      <td>two</td>\n      <td>P</td>\n      <td>5</td>\n      <td>k</td>\n    </tr>\n    <tr>\n      <th>4</th>\n      <td>two</td>\n      <td>Q</td>\n      <td>6</td>\n      <td>l</td>\n    </tr>\n    <tr>\n      <th>5</th>\n      <td>two</td>\n      <td>R</td>\n      <td>7</td>\n      <td>m</td>\n    </tr>\n  </tbody>\n</table>\n</div>"
          },
          "metadata": {}
        }
      ]
    },
    {
      "cell_type": "code",
      "source": "import pandas as pd\n# make an array\narray = [\"Mamoon\",\"Gullu\",\n\"shivangi\", \"priya\",\n\"Aziz\",\"Kainat\"]\n\nseries_obj = pd.Series(array)\nprint(\"Given Series:\\n\", series_obj)\n\narr = series_obj.values\narr\n",
      "metadata": {
        "trusted": true
      },
      "execution_count": 36,
      "outputs": [
        {
          "name": "stdout",
          "text": "Given Series:\n 0      Mamoon\n1       Gullu\n2    shivangi\n3       priya\n4        Aziz\n5      Kainat\ndtype: object\n",
          "output_type": "stream"
        },
        {
          "execution_count": 36,
          "output_type": "execute_result",
          "data": {
            "text/plain": "array(['Mamoon', 'Gullu', 'shivangi', 'priya', 'Aziz', 'Kainat'],\n      dtype=object)"
          },
          "metadata": {}
        }
      ]
    },
    {
      "cell_type": "code",
      "source": "import pandas as pd\n\ndf = pd.DataFrame({'Name': ['Barry', 'Kara', 'Diana', 'Ivy', 'Jenny', 'Bruce'],\n'Gender': ['Male', 'Female', 'Female','Female', 'Female', 'Male'],\n'Age': [45, 6, 4, 36, 12, 43]})\nprint(\"Dataset\")\nprint(df)\nprint(\"-\"*40)\n\n\ndef age_bucket(age):\n  if (age <= 18):\n   return \"<18\"\n  else:\n   return \">18\"\ndf['Age Group'] = df['Age'].apply(age_bucket)\n\n\ngender = pd.DataFrame(df.Gender.value_counts(normalize=True)*100).reset_index()\ngender.columns = ['Gender', '%Gender']\ndf = pd.merge(left=df, right=gender, how='inner', on=['Gender'])\n\ntable = pd.pivot_table(df, index=['Gender', '%Gender', 'Age Group'],\nvalues=['Name'], aggfunc={'Name': 'count',})\n\nprint(\"Table\")\nprint(table)\n",
      "metadata": {
        "trusted": true
      },
      "execution_count": 40,
      "outputs": [
        {
          "name": "stdout",
          "text": "Dataset\n    Name  Gender  Age\n0  Barry    Male   45\n1   Kara  Female    6\n2  Diana  Female    4\n3    Ivy  Female   36\n4  Jenny  Female   12\n5  Bruce    Male   43\n----------------------------------------\nTable\n                            Name\nGender %Gender   Age Group      \nFemale 66.666667 <18           3\n                 >18           1\nMale   33.333333 >18           2\n",
          "output_type": "stream"
        }
      ]
    },
    {
      "cell_type": "code",
      "source": "",
      "metadata": {},
      "execution_count": null,
      "outputs": []
    }
  ]
}